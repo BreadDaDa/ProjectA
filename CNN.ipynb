{
 "cells": [
  {
   "cell_type": "markdown",
   "metadata": {},
   "source": [
    "## Loading Data"
   ]
  },
  {
   "cell_type": "code",
   "execution_count": 1,
   "metadata": {},
   "outputs": [],
   "source": [
    "import numpy as np\n",
    "import itertools\n",
    "import torch\n",
    "from torchvision import datasets\n",
    "from torchvision.transforms import ToTensor\n",
    "\n",
    "train_data = datasets.MNIST(\n",
    "    root = \"data\",\n",
    "    train = True,\n",
    "    download = True,\n",
    "    transform = ToTensor()\n",
    ")\n",
    "test_data = datasets.MNIST(\n",
    "    root = 'data',\n",
    "    train = False,\n",
    "    transform = ToTensor()\n",
    ")"
   ]
  },
  {
   "cell_type": "markdown",
   "metadata": {},
   "source": [
    "## Visualization"
   ]
  },
  {
   "cell_type": "code",
   "execution_count": 2,
   "metadata": {},
   "outputs": [
    {
     "data": {
      "text/plain": [
       "<Figure size 640x480 with 1 Axes>"
      ]
     },
     "metadata": {},
     "output_type": "display_data"
    },
    {
     "data": {
      "text/plain": [
       "<Figure size 1000x800 with 25 Axes>"
      ]
     },
     "metadata": {},
     "output_type": "display_data"
    }
   ],
   "source": [
    "import matplotlib.pyplot as plt\n",
    "\n",
    "plt.imshow(train_data.data[0], cmap = 'gray')\n",
    "plt.title('%i' % train_data.targets[0])\n",
    "plt.show()\n",
    "# plot multiple train_data\n",
    "figure = plt.figure(figsize=(10,8))\n",
    "cols, rows = 5, 5\n",
    "for i in range(1,cols*rows+1):\n",
    "    sample_idx = torch.randint(len(train_data),size=(1,)).item()\n",
    "    img, label = train_data[sample_idx]\n",
    "    figure.add_subplot(rows,cols,i)\n",
    "    plt.title(label)\n",
    "    plt.axis(\"off\")\n",
    "    plt.imshow(img.squeeze(),cmap=\"gray\")\n",
    "plt.savefig('./visualization.png',dpi = 300)\n",
    "plt.show()"
   ]
  },
  {
   "cell_type": "markdown",
   "metadata": {},
   "source": [
    "## Building CNN"
   ]
  },
  {
   "cell_type": "code",
   "execution_count": 3,
   "metadata": {},
   "outputs": [],
   "source": [
    "import torch.nn as nn\n",
    "import torch.utils.data as utils_data\n",
    "from torch import optim"
   ]
  },
  {
   "cell_type": "code",
   "execution_count": 4,
   "metadata": {},
   "outputs": [],
   "source": [
    "#nnconv2d(a,f,b,c,d) hyper parameters a,b,c,d,e,f,g,h"
   ]
  },
  {
   "cell_type": "code",
   "execution_count": 5,
   "metadata": {},
   "outputs": [
    {
     "name": "stdout",
     "output_type": "stream",
     "text": [
      "CNN(\n",
      "  (conv1): Sequential(\n",
      "    (0): Conv2d(1, 10, kernel_size=(5, 5), stride=(1, 1))\n",
      "    (1): ReLU()\n",
      "    (2): MaxPool2d(kernel_size=2, stride=2, padding=0, dilation=1, ceil_mode=False)\n",
      "  )\n",
      "  (conv2): Sequential(\n",
      "    (0): Conv2d(10, 20, kernel_size=(5, 5), stride=(1, 1))\n",
      "    (1): ReLU()\n",
      "    (2): MaxPool2d(kernel_size=2, stride=2, padding=0, dilation=1, ceil_mode=False)\n",
      "  )\n",
      "  (out): Linear(in_features=320, out_features=10, bias=True)\n",
      ")\n"
     ]
    }
   ],
   "source": [
    "class CNN(nn.Module):\n",
    "    def __init__(self):\n",
    "        super(CNN, self).__init__()\n",
    "        \n",
    "        self.conv1 = nn.Sequential(\n",
    "            nn.Conv2d(\n",
    "                in_channels = 1,\n",
    "                out_channels = 10,\n",
    "                kernel_size = 5,\n",
    "                stride = 1,\n",
    "                padding = 0\n",
    "            ),\n",
    "            nn.ReLU(),\n",
    "            nn.MaxPool2d(kernel_size = 2),\n",
    "        )\n",
    "        self.conv2 = nn.Sequential(\n",
    "            nn.Conv2d(\n",
    "                in_channels = 10,\n",
    "                out_channels = 20,\n",
    "                kernel_size = 5,\n",
    "                stride = 1,\n",
    "                padding = 0\n",
    "            ),\n",
    "            nn.ReLU(),\n",
    "            nn.MaxPool2d(kernel_size = 2),\n",
    "        )\n",
    "        # Fully Connected layer\n",
    "        self.out = nn.Linear(320,10)  # 20*4*4 = 320. Original size is 28x28\n",
    "    \n",
    "    def forward(self,x):\n",
    "        x = self.conv1(x)\n",
    "        x = self.conv2(x)    #flatten the output of conv2\n",
    "        x = x.view(x.size(0),-1)\n",
    "        output = self.out(x)\n",
    "        return output, x\n",
    "    \n",
    "cnn = CNN()\n",
    "print(cnn)\n",
    "        "
   ]
  },
  {
   "cell_type": "markdown",
   "metadata": {},
   "source": [
    "## Training"
   ]
  },
  {
   "cell_type": "code",
   "execution_count": 6,
   "metadata": {},
   "outputs": [],
   "source": [
    "from torch.utils.data import DataLoader\n",
    "loaders = {\n",
    "    'train' : torch.utils.data.DataLoader(train_data,\n",
    "                                         batch_size = 64,\n",
    "                                         shuffle = True,\n",
    "                                         num_workers = 1),\n",
    "    'test' : torch.utils.data.DataLoader(test_data,\n",
    "                                        batch_size = 64,\n",
    "                                        shuffle = True,\n",
    "                                        num_workers = 1)\n",
    "}"
   ]
  },
  {
   "cell_type": "markdown",
   "metadata": {},
   "source": [
    "## Loss Function & Optimizer"
   ]
  },
  {
   "cell_type": "code",
   "execution_count": 7,
   "metadata": {},
   "outputs": [],
   "source": [
    "loss_func = nn.CrossEntropyLoss()\n",
    "optimizer = torch.optim.Adam(cnn.parameters(), lr = 0.01)"
   ]
  },
  {
   "cell_type": "markdown",
   "metadata": {},
   "source": [
    "## Train the Model"
   ]
  },
  {
   "cell_type": "code",
   "execution_count": 8,
   "metadata": {},
   "outputs": [
    {
     "name": "stdout",
     "output_type": "stream",
     "text": [
      "Epoch[1/10], Step[100/938], Loss:0.1279\n",
      "Epoch[1/10], Step[200/938], Loss:0.3253\n",
      "Epoch[1/10], Step[300/938], Loss:0.1084\n",
      "Epoch[1/10], Step[400/938], Loss:0.0985\n",
      "Epoch[1/10], Step[500/938], Loss:0.0300\n",
      "Epoch[1/10], Step[600/938], Loss:0.0366\n",
      "Epoch[1/10], Step[700/938], Loss:0.0723\n",
      "Epoch[1/10], Step[800/938], Loss:0.0653\n",
      "Epoch[1/10], Step[900/938], Loss:0.0808\n",
      "Epoch[2/10], Step[100/938], Loss:0.1281\n",
      "Epoch[2/10], Step[200/938], Loss:0.1198\n",
      "Epoch[2/10], Step[300/938], Loss:0.0419\n",
      "Epoch[2/10], Step[400/938], Loss:0.0750\n",
      "Epoch[2/10], Step[500/938], Loss:0.0087\n",
      "Epoch[2/10], Step[600/938], Loss:0.0122\n",
      "Epoch[2/10], Step[700/938], Loss:0.0738\n",
      "Epoch[2/10], Step[800/938], Loss:0.0389\n",
      "Epoch[2/10], Step[900/938], Loss:0.0047\n",
      "Epoch[3/10], Step[100/938], Loss:0.0427\n",
      "Epoch[3/10], Step[200/938], Loss:0.0091\n",
      "Epoch[3/10], Step[300/938], Loss:0.0225\n",
      "Epoch[3/10], Step[400/938], Loss:0.0548\n",
      "Epoch[3/10], Step[500/938], Loss:0.0898\n",
      "Epoch[3/10], Step[600/938], Loss:0.0681\n",
      "Epoch[3/10], Step[700/938], Loss:0.0106\n",
      "Epoch[3/10], Step[800/938], Loss:0.0143\n",
      "Epoch[3/10], Step[900/938], Loss:0.0919\n",
      "Epoch[4/10], Step[100/938], Loss:0.0357\n",
      "Epoch[4/10], Step[200/938], Loss:0.1266\n",
      "Epoch[4/10], Step[300/938], Loss:0.0796\n",
      "Epoch[4/10], Step[400/938], Loss:0.0035\n",
      "Epoch[4/10], Step[500/938], Loss:0.0495\n",
      "Epoch[4/10], Step[600/938], Loss:0.1422\n",
      "Epoch[4/10], Step[700/938], Loss:0.0058\n",
      "Epoch[4/10], Step[800/938], Loss:0.0200\n",
      "Epoch[4/10], Step[900/938], Loss:0.0839\n",
      "Epoch[5/10], Step[100/938], Loss:0.0118\n",
      "Epoch[5/10], Step[200/938], Loss:0.0270\n",
      "Epoch[5/10], Step[300/938], Loss:0.0114\n",
      "Epoch[5/10], Step[400/938], Loss:0.0180\n",
      "Epoch[5/10], Step[500/938], Loss:0.0199\n",
      "Epoch[5/10], Step[600/938], Loss:0.0134\n",
      "Epoch[5/10], Step[700/938], Loss:0.0421\n",
      "Epoch[5/10], Step[800/938], Loss:0.0011\n",
      "Epoch[5/10], Step[900/938], Loss:0.0900\n",
      "Epoch[6/10], Step[100/938], Loss:0.0029\n",
      "Epoch[6/10], Step[200/938], Loss:0.0342\n",
      "Epoch[6/10], Step[300/938], Loss:0.0214\n",
      "Epoch[6/10], Step[400/938], Loss:0.0140\n",
      "Epoch[6/10], Step[500/938], Loss:0.0792\n",
      "Epoch[6/10], Step[600/938], Loss:0.0166\n",
      "Epoch[6/10], Step[700/938], Loss:0.0669\n",
      "Epoch[6/10], Step[800/938], Loss:0.0670\n",
      "Epoch[6/10], Step[900/938], Loss:0.1736\n",
      "Epoch[7/10], Step[100/938], Loss:0.0443\n",
      "Epoch[7/10], Step[200/938], Loss:0.0354\n",
      "Epoch[7/10], Step[300/938], Loss:0.0003\n",
      "Epoch[7/10], Step[400/938], Loss:0.0483\n",
      "Epoch[7/10], Step[500/938], Loss:0.1003\n",
      "Epoch[7/10], Step[600/938], Loss:0.0273\n",
      "Epoch[7/10], Step[700/938], Loss:0.3015\n",
      "Epoch[7/10], Step[800/938], Loss:0.0243\n",
      "Epoch[7/10], Step[900/938], Loss:0.0661\n",
      "Epoch[8/10], Step[100/938], Loss:0.0971\n",
      "Epoch[8/10], Step[200/938], Loss:0.0084\n",
      "Epoch[8/10], Step[300/938], Loss:0.0279\n",
      "Epoch[8/10], Step[400/938], Loss:0.0011\n",
      "Epoch[8/10], Step[500/938], Loss:0.0119\n",
      "Epoch[8/10], Step[600/938], Loss:0.0556\n",
      "Epoch[8/10], Step[700/938], Loss:0.0481\n",
      "Epoch[8/10], Step[800/938], Loss:0.0007\n",
      "Epoch[8/10], Step[900/938], Loss:0.0456\n",
      "Epoch[9/10], Step[100/938], Loss:0.1006\n",
      "Epoch[9/10], Step[200/938], Loss:0.0462\n",
      "Epoch[9/10], Step[300/938], Loss:0.0016\n",
      "Epoch[9/10], Step[400/938], Loss:0.1331\n",
      "Epoch[9/10], Step[500/938], Loss:0.0131\n",
      "Epoch[9/10], Step[600/938], Loss:0.0025\n",
      "Epoch[9/10], Step[700/938], Loss:0.1207\n",
      "Epoch[9/10], Step[800/938], Loss:0.0451\n",
      "Epoch[9/10], Step[900/938], Loss:0.0065\n",
      "Epoch[10/10], Step[100/938], Loss:0.0605\n",
      "Epoch[10/10], Step[200/938], Loss:0.0235\n",
      "Epoch[10/10], Step[300/938], Loss:0.0033\n",
      "Epoch[10/10], Step[400/938], Loss:0.0626\n",
      "Epoch[10/10], Step[500/938], Loss:0.0015\n",
      "Epoch[10/10], Step[600/938], Loss:0.0485\n",
      "Epoch[10/10], Step[700/938], Loss:0.0014\n",
      "Epoch[10/10], Step[800/938], Loss:0.0135\n",
      "Epoch[10/10], Step[900/938], Loss:0.0040\n"
     ]
    }
   ],
   "source": [
    "from torch.autograd import Variable\n",
    "num_epochs = 10\n",
    "\n",
    "def train(num_epochs, cnn, loaders):\n",
    "    cnn.train()\n",
    "    \n",
    "    total_step = len(loaders['train'])\n",
    "    for epoch in range (num_epochs):\n",
    "        for i, (images, labels) in enumerate(loaders['train']):\n",
    "            b_x = Variable(images)\n",
    "            b_y = Variable(labels)\n",
    "            output = cnn(b_x)[0]\n",
    "            \n",
    "            loss = loss_func(output, b_y)\n",
    "            optimizer.zero_grad()\n",
    "            loss.backward()\n",
    "            optimizer.step()\n",
    "            \n",
    "            if (i+1)%100 == 0:\n",
    "                print('Epoch[{}/{}], Step[{}/{}], Loss:{:.4f}'\n",
    "                      .format(epoch+1, num_epochs, i+1, total_step, loss.item()))\n",
    "                pass\n",
    "        pass\n",
    "    pass\n",
    "\n",
    "train(num_epochs, cnn, loaders)"
   ]
  },
  {
   "cell_type": "markdown",
   "metadata": {},
   "source": [
    "## Test Model"
   ]
  },
  {
   "cell_type": "code",
   "execution_count": 9,
   "metadata": {},
   "outputs": [
    {
     "name": "stdout",
     "output_type": "stream",
     "text": [
      "Test Accuracy of the model on the 10000 test images: 1.00\n",
      "Prediction number: [6 6 6 2 0 8 6 8 1 5 9 1 6 9 7 8 1 8 8 0]\n",
      "Actual number: [6 6 6 2 0 8 6 8 1 9 9 1 6 9 7 8 1 8 8 0]\n"
     ]
    }
   ],
   "source": [
    "def test():\n",
    "    cnn.eval()\n",
    "    with torch.no_grad():\n",
    "        correct = 0\n",
    "        total = 0\n",
    "        for images, labels in loaders['test']:\n",
    "            test_output, last_layer = cnn(images)\n",
    "            pred_y = torch.max(test_output, 1)[1].data.squeeze()\n",
    "            accuracy = (pred_y == labels).sum().item() / float(labels.size(0))\n",
    "            pass\n",
    "    print('Test Accuracy of the model on the 10000 test images: %.2f' %accuracy)\n",
    "    \n",
    "    pass\n",
    "test()\n",
    "sample = next(iter(loaders['test']))\n",
    "imgs, lbls = sample\n",
    "actual_number = lbls[:20].numpy()\n",
    "test_output, last_layer = cnn(imgs[:20])\n",
    "pred_y = torch.max(test_output, 1)[1].data.numpy().squeeze()\n",
    "print(f'Prediction number: {pred_y}')\n",
    "print(f'Actual number: {actual_number}')"
   ]
  },
  {
   "cell_type": "code",
   "execution_count": null,
   "metadata": {},
   "outputs": [],
   "source": []
  },
  {
   "cell_type": "code",
   "execution_count": null,
   "metadata": {},
   "outputs": [],
   "source": []
  },
  {
   "cell_type": "code",
   "execution_count": null,
   "metadata": {},
   "outputs": [],
   "source": []
  },
  {
   "cell_type": "code",
   "execution_count": null,
   "metadata": {},
   "outputs": [],
   "source": []
  },
  {
   "cell_type": "code",
   "execution_count": null,
   "metadata": {},
   "outputs": [],
   "source": []
  },
  {
   "cell_type": "code",
   "execution_count": null,
   "metadata": {},
   "outputs": [],
   "source": []
  }
 ],
 "metadata": {
  "kernelspec": {
   "display_name": "Python 3",
   "language": "python",
   "name": "python3"
  },
  "language_info": {
   "codemirror_mode": {
    "name": "ipython",
    "version": 3
   },
   "file_extension": ".py",
   "mimetype": "text/x-python",
   "name": "python",
   "nbconvert_exporter": "python",
   "pygments_lexer": "ipython3",
   "version": "3.7.4"
  }
 },
 "nbformat": 4,
 "nbformat_minor": 4
}
